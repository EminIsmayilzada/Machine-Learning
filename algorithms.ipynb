{
  "nbformat": 4,
  "nbformat_minor": 0,
  "metadata": {
    "colab": {
      "provenance": [],
      "include_colab_link": true
    },
    "kernelspec": {
      "name": "python3",
      "display_name": "Python 3"
    },
    "language_info": {
      "name": "python"
    }
  },
  "cells": [
    {
      "cell_type": "markdown",
      "metadata": {
        "id": "view-in-github",
        "colab_type": "text"
      },
      "source": [
        "<a href=\"https://colab.research.google.com/github/EminIsmayilzada/Machine-Learning/blob/main/algorithms.ipynb\" target=\"_parent\"><img src=\"https://colab.research.google.com/assets/colab-badge.svg\" alt=\"Open In Colab\"/></a>"
      ]
    },
    {
      "cell_type": "markdown",
      "source": [
        "# Count Vowels in a String"
      ],
      "metadata": {
        "id": "a0x61yiyia0b"
      }
    },
    {
      "cell_type": "code",
      "source": [
        "#count_vowels(\"Hello World\")\n",
        "def count_vowels(string):\n",
        "    'i'"
      ],
      "metadata": {
        "colab": {
          "base_uri": "https://localhost:8080/"
        },
        "id": "u-vOYITrigqX",
        "outputId": "2335ebab-6040-4127-d483-d94b790d4346"
      },
      "execution_count": null,
      "outputs": [
        {
          "output_type": "stream",
          "name": "stdout",
          "text": [
            "3\n"
          ]
        }
      ]
    },
    {
      "cell_type": "markdown",
      "source": [
        "# Sum of Digits"
      ],
      "metadata": {
        "id": "k6ZmU2eCimiv"
      }
    },
    {
      "cell_type": "code",
      "source": [
        "from re import T\n",
        "# sum_of_digits(12345)\n",
        "def sum_of_digits(n):\n"
      ],
      "metadata": {
        "colab": {
          "base_uri": "https://localhost:8080/"
        },
        "id": "NEp3FAyHjfFO",
        "outputId": "d3998931-89b7-4be1-cf7a-0a5d0d95178d"
      },
      "execution_count": null,
      "outputs": [
        {
          "output_type": "stream",
          "name": "stdout",
          "text": [
            "15\n"
          ]
        }
      ]
    },
    {
      "cell_type": "markdown",
      "source": [
        "#  Find Prime Numbers in a Range"
      ],
      "metadata": {
        "id": "cvmdLaxLjibr"
      }
    },
    {
      "cell_type": "code",
      "source": [
        "# find_primes_in_range(10, 20)\n",
        "def find_primes_in_range(start, end):\n"
      ],
      "metadata": {
        "colab": {
          "base_uri": "https://localhost:8080/"
        },
        "id": "QEc4NljjjwEJ",
        "outputId": "079ce370-245a-42e8-e002-a57eaf4a8fd1"
      },
      "execution_count": null,
      "outputs": [
        {
          "output_type": "stream",
          "name": "stdout",
          "text": [
            "11\n",
            "13\n",
            "17\n",
            "19\n"
          ]
        }
      ]
    },
    {
      "cell_type": "markdown",
      "source": [
        "# Find the Length of the Longest Word in a Sentence"
      ],
      "metadata": {
        "id": "Wyu5ibjromnW"
      }
    },
    {
      "cell_type": "code",
      "source": [
        "# longest_word_length(\"The quick brown fox jumps over the lazy dog\")\n",
        "def longest_word_length(sentence):\n"
      ],
      "metadata": {
        "colab": {
          "base_uri": "https://localhost:8080/"
        },
        "id": "t1MMELXxovzu",
        "outputId": "091afe05-552a-40e1-f8b2-c3e2783b0f2a"
      },
      "execution_count": null,
      "outputs": [
        {
          "output_type": "stream",
          "name": "stdout",
          "text": [
            "5\n"
          ]
        }
      ]
    },
    {
      "cell_type": "markdown",
      "source": [
        "# Fibonacci Sequence"
      ],
      "metadata": {
        "id": "p1tC2WlgqGoe"
      }
    },
    {
      "cell_type": "code",
      "source": [
        "# fibonacci(7)\n",
        "def fibonacci(n):\n"
      ],
      "metadata": {
        "colab": {
          "base_uri": "https://localhost:8080/"
        },
        "id": "KepNiM-9qLMX",
        "outputId": "96cb0dd2-0223-4c3b-ff63-b4f0c01ad360"
      },
      "execution_count": null,
      "outputs": [
        {
          "output_type": "stream",
          "name": "stdout",
          "text": [
            "0\n",
            "1\n",
            "1\n",
            "2\n",
            "3\n",
            "5\n",
            "8\n",
            "13\n"
          ]
        }
      ]
    },
    {
      "cell_type": "markdown",
      "source": [
        "# Remove Duplicates from a List"
      ],
      "metadata": {
        "id": "V04Mec-8qdS6"
      }
    },
    {
      "cell_type": "code",
      "source": [
        "# remove_duplicates([1, 2, 2, 3, 4, 4, 5])\n",
        "def remove_duplicates(lst):\n"
      ],
      "metadata": {
        "colab": {
          "base_uri": "https://localhost:8080/"
        },
        "id": "4QxM8OIisKjb",
        "outputId": "bd92806a-d964-4c4d-fc2d-29d208a426ef"
      },
      "execution_count": null,
      "outputs": [
        {
          "output_type": "stream",
          "name": "stdout",
          "text": [
            "dict_keys([1, 2, 3, 4, 5])\n"
          ]
        }
      ]
    },
    {
      "cell_type": "markdown",
      "source": [
        "# Find All Anagrams in a List"
      ],
      "metadata": {
        "id": "bpSjtoaMunUT"
      }
    },
    {
      "cell_type": "code",
      "source": [
        "# find_anagrams(\"listen\", [\"enlist\", \"google\", \"inlets\", \"banana\"])\n"
      ],
      "metadata": {
        "colab": {
          "base_uri": "https://localhost:8080/"
        },
        "id": "rYwn8l52usTc",
        "outputId": "df4e17a8-5e7c-4f58-ffa8-8f4c16d1b458"
      },
      "execution_count": null,
      "outputs": [
        {
          "output_type": "stream",
          "name": "stdout",
          "text": [
            "['enlist', 'inlets']\n"
          ]
        }
      ]
    },
    {
      "cell_type": "markdown",
      "source": [
        "#  Check if a Number is a Perfect Square"
      ],
      "metadata": {
        "id": "iMMLUsWnwQ64"
      }
    },
    {
      "cell_type": "code",
      "source": [
        "# is_perfect_square(16)\n",
        "def is_perfect_square(n):\n"
      ],
      "metadata": {
        "colab": {
          "base_uri": "https://localhost:8080/"
        },
        "id": "YStCZ6qTw83s",
        "outputId": "26233159-7a14-4012-c500-c3305e39d7c6"
      },
      "execution_count": null,
      "outputs": [
        {
          "output_type": "stream",
          "name": "stdout",
          "text": [
            "False\n"
          ]
        }
      ]
    },
    {
      "cell_type": "markdown",
      "source": [
        "#  Find the Longest Substring Without Repeating Characters"
      ],
      "metadata": {
        "id": "TjpNSWSCxKw2"
      }
    },
    {
      "cell_type": "code",
      "source": [
        "# longest_unique_substring(\"abcabcdpabcbb\")\n",
        "def longest_unique_substring(string):\n"
      ],
      "metadata": {
        "id": "sC45z713xyMp",
        "colab": {
          "base_uri": "https://localhost:8080/"
        },
        "outputId": "6ab2a026-19b5-4055-ee58-1c0caeff4a50"
      },
      "execution_count": null,
      "outputs": [
        {
          "output_type": "stream",
          "name": "stdout",
          "text": [
            "abcdefgh\n"
          ]
        }
      ]
    },
    {
      "cell_type": "markdown",
      "source": [
        "# Rotate a List"
      ],
      "metadata": {
        "id": "55YLdtEc3Pwn"
      }
    },
    {
      "cell_type": "code",
      "source": [],
      "metadata": {
        "colab": {
          "base_uri": "https://localhost:8080/"
        },
        "id": "6a5h5qlphBua",
        "outputId": "332d6bfd-7e44-4042-dbd2-925b2ba883bd"
      },
      "execution_count": null,
      "outputs": [
        {
          "output_type": "execute_result",
          "data": {
            "text/plain": [
              "[3, 4, 5, 1, 2]"
            ]
          },
          "metadata": {},
          "execution_count": 20
        }
      ]
    },
    {
      "cell_type": "code",
      "source": [
        "# rotate_list([1, 2, 3, 4, 5], 2)\n",
        "# [4, 5, 1, 2, 3]\n",
        "\n",
        "def rotate_list(lst, n):\n"
      ],
      "metadata": {
        "colab": {
          "base_uri": "https://localhost:8080/"
        },
        "id": "N8nr6bLO3U3p",
        "outputId": "a76a9873-2c57-4900-aafd-c1dd1ad40200"
      },
      "execution_count": null,
      "outputs": [
        {
          "output_type": "stream",
          "name": "stdout",
          "text": [
            "[4, 5, 1, 2, 3]\n"
          ]
        }
      ]
    },
    {
      "cell_type": "markdown",
      "source": [
        "# Check if a List is Sorted"
      ],
      "metadata": {
        "id": "bdq6M6Qx3lUi"
      }
    },
    {
      "cell_type": "code",
      "source": [
        "# is_sorted([1, 2, 3, 4, 5])\n",
        "def is_sorted(arr):\n"
      ],
      "metadata": {
        "id": "Qzqyk_0u3wuU",
        "colab": {
          "base_uri": "https://localhost:8080/"
        },
        "outputId": "686990ad-2d86-4955-ec9c-73c91895019e"
      },
      "execution_count": null,
      "outputs": [
        {
          "output_type": "stream",
          "name": "stdout",
          "text": [
            "True\n"
          ]
        }
      ]
    },
    {
      "cell_type": "markdown",
      "source": [
        "# Count Frequency of Elements in a List"
      ],
      "metadata": {
        "id": "w7b9Tq4j4x4N"
      }
    },
    {
      "cell_type": "code",
      "source": [
        "# count_frequency([1, 2, 2, 3, 3, 3, 4])\n",
        "\n",
        "def count_frequency(lst):\n"
      ],
      "metadata": {
        "id": "7OYgt-8T4yxQ",
        "colab": {
          "base_uri": "https://localhost:8080/"
        },
        "outputId": "fd49d4f1-4916-48e9-a89a-4e782ae25168"
      },
      "execution_count": null,
      "outputs": [
        {
          "output_type": "stream",
          "name": "stdout",
          "text": [
            "{1: 1, 2: 2, 3: 3, 4: 1}\n"
          ]
        }
      ]
    },
    {
      "cell_type": "markdown",
      "source": [
        "#  Sort a List Using Bubble Sort"
      ],
      "metadata": {
        "id": "ut42M3LF7GgZ"
      }
    },
    {
      "cell_type": "code",
      "source": [
        "# bubble_sort([64, 34, 25, 12, 22, 11, 90])\n",
        "def bubble_sort(arr):\n"
      ],
      "metadata": {
        "id": "f08PgwpL7NUf",
        "colab": {
          "base_uri": "https://localhost:8080/"
        },
        "outputId": "a8e02743-ae20-4761-ff7f-6b0c16e56e45"
      },
      "execution_count": null,
      "outputs": [
        {
          "output_type": "stream",
          "name": "stdout",
          "text": [
            "[-77, 11, 12, 22, 25, 34, 64, 90, 6564546]\n"
          ]
        }
      ]
    },
    {
      "cell_type": "markdown",
      "source": [
        "# Maximum Subarray Sum with One Deletion\n"
      ],
      "metadata": {
        "id": "5kD_azaCaNWT"
      }
    },
    {
      "cell_type": "code",
      "source": [
        "# Input: [1, -2, 0, 3]\n",
        "# Output: 4\n",
        "# Explanation: We can delete only one element and obtain the maximum sum of 4\n",
        "total = 0\n",
        "arr = [1, -2, 0, 3]\n",
        "arr.remove(min(arr))\n",
        "for num in arr:\n",
        "    total += num\n",
        "total"
      ],
      "metadata": {
        "colab": {
          "base_uri": "https://localhost:8080/"
        },
        "id": "Y4Mpk6U1aOcP",
        "outputId": "e7e3a8c7-8642-4595-fccb-4da647cd5fbc"
      },
      "execution_count": null,
      "outputs": [
        {
          "output_type": "execute_result",
          "data": {
            "text/plain": [
              "4"
            ]
          },
          "metadata": {},
          "execution_count": 35
        }
      ]
    },
    {
      "cell_type": "code",
      "source": [
        "800, 900, 1100, 1200 - > 1000\n",
        "1000 -800 + 1000 - 900 + 1000 - 1100 + 1000 - 1200"
      ],
      "metadata": {
        "id": "sEdRWO6-qKSR"
      },
      "execution_count": null,
      "outputs": []
    },
    {
      "cell_type": "code",
      "source": [],
      "metadata": {
        "id": "jEJuMwshE9q3"
      },
      "execution_count": null,
      "outputs": []
    }
  ]
}