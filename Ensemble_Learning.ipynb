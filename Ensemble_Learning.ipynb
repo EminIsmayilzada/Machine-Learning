{
  "nbformat": 4,
  "nbformat_minor": 0,
  "metadata": {
    "colab": {
      "provenance": [],
      "authorship_tag": "ABX9TyMcQ/zjWVTfJDh2n3YEAsle",
      "include_colab_link": true
    },
    "kernelspec": {
      "name": "python3",
      "display_name": "Python 3"
    },
    "language_info": {
      "name": "python"
    }
  },
  "cells": [
    {
      "cell_type": "markdown",
      "metadata": {
        "id": "view-in-github",
        "colab_type": "text"
      },
      "source": [
        "<a href=\"https://colab.research.google.com/github/EminIsmayilzada/Machine-Learning/blob/main/Ensemble_Learning.ipynb\" target=\"_parent\"><img src=\"https://colab.research.google.com/assets/colab-badge.svg\" alt=\"Open In Colab\"/></a>"
      ]
    },
    {
      "cell_type": "code",
      "execution_count": null,
      "metadata": {
        "colab": {
          "base_uri": "https://localhost:8080/"
        },
        "id": "hZyYt4nm9Fhr",
        "outputId": "918687e2-809b-4c80-c678-def7f5abf195"
      },
      "outputs": [
        {
          "output_type": "stream",
          "name": "stdout",
          "text": [
            "True\n"
          ]
        }
      ],
      "source": [
        "import numpy as np\n",
        "def majority_heads_biased(n, p=0.51):\n",
        "  successes=0\n",
        "  for i in range(n):\n",
        "    #outcome of the coin toss\n",
        "    if np.random.random()>1-p:\n",
        "      successes+=1\n",
        "  return successes>500\n",
        "\n",
        "print(majority_heads_biased(1000))"
      ]
    },
    {
      "cell_type": "code",
      "source": [
        "from scipy.stats import binom, norm\n",
        "import math\n",
        "\n",
        "def majority_heads_binom(n,p=0.51):\n",
        "  majority=math.ceil(n/2)\n",
        "  return sum(binom.pmf(k,n,p) for k in range(majority, n+1))\n",
        "\n",
        "print(majority_heads_binom(1000))"
      ],
      "metadata": {
        "colab": {
          "base_uri": "https://localhost:8080/"
        },
        "id": "KTAjeNXJ-C_i",
        "outputId": "52e9ce75-d5f5-4c2a-897c-3a516227a572"
      },
      "execution_count": null,
      "outputs": [
        {
          "output_type": "stream",
          "name": "stdout",
          "text": [
            "0.7467502275563255\n"
          ]
        }
      ]
    },
    {
      "cell_type": "code",
      "source": [
        "from sklearn.datasets import make_moons\n",
        "from sklearn.ensemble import RandomForestClassifier, VotingClassifier\n",
        "from sklearn.linear_model import LogisticRegression\n",
        "from sklearn.model_selection import train_test_split\n",
        "from sklearn.svm import SVC\n",
        "\n",
        "X,y= make_moons(n_samples=500, noise=0.30, random_state=42)\n",
        "X_train, X_test, y_train, y_test= train_test_split(X,y, random_state=42)\n",
        "\n",
        "voting_clf=VotingClassifier(\n",
        "    estimators=[\n",
        "        ('lr', LogisticRegression(random_state=42)),\n",
        "        ('rf', RandomForestClassifier(random_state=42)),\n",
        "        ('svc', SVC(random_state=42))\n",
        "    ]\n",
        ")\n",
        "\n",
        "voting_clf.fit(X_train, y_train)\n",
        "voting_clf.score(X_test, y_test)"
      ],
      "metadata": {
        "colab": {
          "base_uri": "https://localhost:8080/"
        },
        "id": "qfuNGORa-zO3",
        "outputId": "2f801c50-04ba-48a2-b37e-3911a6117b33"
      },
      "execution_count": null,
      "outputs": [
        {
          "output_type": "execute_result",
          "data": {
            "text/plain": [
              "0.912"
            ]
          },
          "metadata": {},
          "execution_count": 9
        }
      ]
    },
    {
      "cell_type": "code",
      "source": [],
      "metadata": {
        "id": "0cP1ReS-BfqF"
      },
      "execution_count": null,
      "outputs": []
    }
  ]
}